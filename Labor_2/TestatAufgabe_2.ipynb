{
 "cells": [
  {
   "cell_type": "markdown",
   "id": "a65c3fa7",
   "metadata": {},
   "source": [
    "# Statistik-Labor Testat Aufgabe 2\n",
    "***Hinweise:***\n",
    "- Bitte überprüfen Sie Ihre Resultate vor der Abgabe Ihre Ergebnisse mit den Teilergebnissen aus der Datei ***Teilergebnisse_xy.txt***.\n",
    "- Die Unterlagen sind im **pdf-Format** in Moodle hochgeladen abzugeben. Richtige Lösungen werden nicht mehr an Sie zurückgegeben. Eine Abgabe per Email ist nicht möglich.\n",
    "- Bitte füllen Sie das jeweilige **Deckblatt** mit aus und geben es mit Ihrer Lösung zusammen ab.\n",
    "\n",
    "***Aufgabenstellung:***<br>\n",
    "Untersuchen Sie die Bevölkerungsentwicklung der USA. <br>\n",
    "In der Datei **sr_aufg_2_xy.txt** im Unterverzeichnis **Endziffer_xy** (*„xy“ steht für die beiden Endziffern Ihrer Matrikelnummer*) finden Sie die dafür erforderlichen Daten. <br>\n",
    "Diese Datei enthält zwei Spalten fester Breite: Jahreszahl und Anzahl der Einwohner der USA in Millionen (zu einem festen Stichtag in dem angegebenen Jahr).\n",
    "\n",
    "## a) Daten einlesen\n",
    "Lesen Sie Daten in **Python** bzw. ein **Jupyter Notebook** ein. Speichern Sie sie in einem **Pandas DataFrame** ab."
   ]
  },
  {
   "cell_type": "code",
   "execution_count": 47,
   "id": "27b964d4",
   "metadata": {},
   "outputs": [
    {
     "data": {
      "text/html": [
       "<div>\n",
       "<style scoped>\n",
       "    .dataframe tbody tr th:only-of-type {\n",
       "        vertical-align: middle;\n",
       "    }\n",
       "\n",
       "    .dataframe tbody tr th {\n",
       "        vertical-align: top;\n",
       "    }\n",
       "\n",
       "    .dataframe thead th {\n",
       "        text-align: right;\n",
       "    }\n",
       "</style>\n",
       "<table border=\"1\" class=\"dataframe\">\n",
       "  <thead>\n",
       "    <tr style=\"text-align: right;\">\n",
       "      <th></th>\n",
       "      <th>Jahr</th>\n",
       "      <th>Einwohner</th>\n",
       "    </tr>\n",
       "  </thead>\n",
       "  <tbody>\n",
       "    <tr>\n",
       "      <th>0</th>\n",
       "      <td>1790</td>\n",
       "      <td>3.929214</td>\n",
       "    </tr>\n",
       "    <tr>\n",
       "      <th>1</th>\n",
       "      <td>1800</td>\n",
       "      <td>5.308483</td>\n",
       "    </tr>\n",
       "    <tr>\n",
       "      <th>2</th>\n",
       "      <td>1820</td>\n",
       "      <td>9.638453</td>\n",
       "    </tr>\n",
       "    <tr>\n",
       "      <th>3</th>\n",
       "      <td>1830</td>\n",
       "      <td>12.866020</td>\n",
       "    </tr>\n",
       "    <tr>\n",
       "      <th>4</th>\n",
       "      <td>1840</td>\n",
       "      <td>17.069453</td>\n",
       "    </tr>\n",
       "    <tr>\n",
       "      <th>5</th>\n",
       "      <td>1850</td>\n",
       "      <td>23.191876</td>\n",
       "    </tr>\n",
       "    <tr>\n",
       "      <th>6</th>\n",
       "      <td>1860</td>\n",
       "      <td>31.443321</td>\n",
       "    </tr>\n",
       "    <tr>\n",
       "      <th>7</th>\n",
       "      <td>1870</td>\n",
       "      <td>39.818449</td>\n",
       "    </tr>\n",
       "    <tr>\n",
       "      <th>8</th>\n",
       "      <td>1880</td>\n",
       "      <td>50.189209</td>\n",
       "    </tr>\n",
       "    <tr>\n",
       "      <th>9</th>\n",
       "      <td>1890</td>\n",
       "      <td>62.979766</td>\n",
       "    </tr>\n",
       "    <tr>\n",
       "      <th>10</th>\n",
       "      <td>1900</td>\n",
       "      <td>76.212168</td>\n",
       "    </tr>\n",
       "    <tr>\n",
       "      <th>11</th>\n",
       "      <td>1910</td>\n",
       "      <td>92.228496</td>\n",
       "    </tr>\n",
       "    <tr>\n",
       "      <th>12</th>\n",
       "      <td>1920</td>\n",
       "      <td>106.021537</td>\n",
       "    </tr>\n",
       "    <tr>\n",
       "      <th>13</th>\n",
       "      <td>1930</td>\n",
       "      <td>123.202624</td>\n",
       "    </tr>\n",
       "    <tr>\n",
       "      <th>14</th>\n",
       "      <td>1940</td>\n",
       "      <td>132.164569</td>\n",
       "    </tr>\n",
       "    <tr>\n",
       "      <th>15</th>\n",
       "      <td>1950</td>\n",
       "      <td>151.325798</td>\n",
       "    </tr>\n",
       "    <tr>\n",
       "      <th>16</th>\n",
       "      <td>1960</td>\n",
       "      <td>179.323175</td>\n",
       "    </tr>\n",
       "    <tr>\n",
       "      <th>17</th>\n",
       "      <td>1970</td>\n",
       "      <td>203.302031</td>\n",
       "    </tr>\n",
       "    <tr>\n",
       "      <th>18</th>\n",
       "      <td>1980</td>\n",
       "      <td>226.542199</td>\n",
       "    </tr>\n",
       "    <tr>\n",
       "      <th>19</th>\n",
       "      <td>1990</td>\n",
       "      <td>248.718302</td>\n",
       "    </tr>\n",
       "    <tr>\n",
       "      <th>20</th>\n",
       "      <td>2000</td>\n",
       "      <td>281.424603</td>\n",
       "    </tr>\n",
       "    <tr>\n",
       "      <th>21</th>\n",
       "      <td>2010</td>\n",
       "      <td>308.745538</td>\n",
       "    </tr>\n",
       "    <tr>\n",
       "      <th>22</th>\n",
       "      <td>2020</td>\n",
       "      <td>331.449281</td>\n",
       "    </tr>\n",
       "  </tbody>\n",
       "</table>\n",
       "</div>"
      ],
      "text/plain": [
       "    Jahr   Einwohner\n",
       "0   1790    3.929214\n",
       "1   1800    5.308483\n",
       "2   1820    9.638453\n",
       "3   1830   12.866020\n",
       "4   1840   17.069453\n",
       "5   1850   23.191876\n",
       "6   1860   31.443321\n",
       "7   1870   39.818449\n",
       "8   1880   50.189209\n",
       "9   1890   62.979766\n",
       "10  1900   76.212168\n",
       "11  1910   92.228496\n",
       "12  1920  106.021537\n",
       "13  1930  123.202624\n",
       "14  1940  132.164569\n",
       "15  1950  151.325798\n",
       "16  1960  179.323175\n",
       "17  1970  203.302031\n",
       "18  1980  226.542199\n",
       "19  1990  248.718302\n",
       "20  2000  281.424603\n",
       "21  2010  308.745538\n",
       "22  2020  331.449281"
      ]
     },
     "execution_count": 47,
     "metadata": {},
     "output_type": "execute_result"
    }
   ],
   "source": [
    "import pandas as pd\n",
    "\n",
    "data = pd.read_csv('sr_aufg_2_82.txt', sep='\\s+', decimal=',', header=None, names=['Jahr', 'Einwohner'])\n",
    "#data.head(5)\n",
    "#data['Jahr'] = data['Jahr'].astype(int)\n",
    "data"
   ]
  },
  {
   "cell_type": "markdown",
   "id": "1fbf7959",
   "metadata": {},
   "source": [
    "## b) Streudiagramm erstellen\n",
    "Stellen Sie die Bevölkerungsentwicklung in einem Streudiagramm dar."
   ]
  },
  {
   "cell_type": "code",
   "execution_count": 49,
   "id": "b824ac3a",
   "metadata": {},
   "outputs": [
    {
     "data": {
      "image/png": "[encoded data removed]",
      "text/plain": [
       "<Figure size 640x480 with 1 Axes>"
      ]
     },
     "metadata": {},
     "output_type": "display_data"
    }
   ],
   "source": [
    "import matplotlib.pyplot as plt\n",
    "\n",
    "plt.scatter(data['Jahr'], data['Einwohner'], marker = 'x')\n",
    "\n",
    "plt.xlabel('Jahr')\n",
    "plt.ylabel('Einwohner [In Mio]')\n",
    "plt.title('Einwohner der USA in Mio seit 1790')\n",
    "\n",
    "plt.show()"
   ]
  },
  {
   "cell_type": "markdown",
   "id": "0ace3e79-9824-466e-80ab-00a0037874f4",
   "metadata": {},
   "source": [
    "## c) Regressionskurven bestimmen\n",
    "Untersuchen Sie je nach Matrikelnummer Ihre 5 Funktionen um eine Regressionskurve durch die Punkte zu legen:<br>\n",
    "\n",
    "| Gerade Matrikelnummer-Endung: | Ungerade Matrikelnummer-Endung: |\n",
    "| :- | :- |\n",
    "| Lineare Funktion: $\\;\\;$ $y = ax+b$ | Lineare Funktion: $\\;\\;$ $y = ax+b$ |\n",
    "| Polynom 2. Grades: $y = ax^2+bx+c$ | Polynom 2. Grades: $y = ax^2+bx+c$ |\n",
    "| Polynom 4. Grades: $y=ax^4+bx^3+cx^2+dx+e$ | Polynom 3. Grades: $y=ax^3+bx^2+cx+d$ |\n",
    "| Polynom 6. Grades: $y=ax^6+bx^5+cx^4+dx^3+gx^2+ux+v$ | Polynom 6. Grades: $y=ax^6+bx^5+cx^4+dx^3+gx^2+ux+v$ |\n",
    "| Exponentialfunktion: $y=a \\cdot{\\rm e}^{bx}$ | Logarithmusfunktion: $y=a \\cdot\\ln{(x)}-b$ |\n",
    "\n",
    "Stellen Sie **in einer Tabelle den Regressionstyp** (z.B. lineare Funktion, Polynom 2. Grades, …), die **geschätzten Koeffizienten mit Achsenabschnitt und das Bestimmtheitsmaß** dar.\n",
    "\n",
    "***Tipp:***<br>\n",
    "Verwenden Sie für die Schätzung der Regressionskurve und des Bestimmtheitsmaßes standardisierte Eingangswerte (Jahreszahlen)"
   ]
  },
  {
   "cell_type": "code",
   "execution_count": 51,
   "id": "887e21ef",
   "metadata": {},
   "outputs": [],
   "source": [
    "from sklearn.linear_model import LinearRegression\n",
    "\n",
    "einw_model = LinearRegression()\n"
   ]
  },
  {
   "cell_type": "code",
   "execution_count": 53,
   "id": "c586b26c",
   "metadata": {},
   "outputs": [
    {
     "data": {
      "text/html": [
       "<style>#sk-container-id-2 {color: black;background-color: white;}#sk-container-id-2 pre{padding: 0;}#sk-container-id-2 div.sk-toggleable {background-color: white;}#sk-container-id-2 label.sk-toggleable__label {cursor: pointer;display: block;width: 100%;margin-bottom: 0;padding: 0.3em;box-sizing: border-box;text-align: center;}#sk-container-id-2 label.sk-toggleable__label-arrow:before {content: \"▸\";float: left;margin-right: 0.25em;color: #696969;}#sk-container-id-2 label.sk-toggleable__label-arrow:hover:before {color: black;}#sk-container-id-2 div.sk-estimator:hover label.sk-toggleable__label-arrow:before {color: black;}#sk-container-id-2 div.sk-toggleable__content {max-height: 0;max-width: 0;overflow: hidden;text-align: left;background-color: #f0f8ff;}#sk-container-id-2 div.sk-toggleable__content pre {margin: 0.2em;color: black;border-radius: 0.25em;background-color: #f0f8ff;}#sk-container-id-2 input.sk-toggleable__control:checked~div.sk-toggleable__content {max-height: 200px;max-width: 100%;overflow: auto;}#sk-container-id-2 input.sk-toggleable__control:checked~label.sk-toggleable__label-arrow:before {content: \"▾\";}#sk-container-id-2 div.sk-estimator input.sk-toggleable__control:checked~label.sk-toggleable__label {background-color: #d4ebff;}#sk-container-id-2 div.sk-label input.sk-toggleable__control:checked~label.sk-toggleable__label {background-color: #d4ebff;}#sk-container-id-2 input.sk-hidden--visually {border: 0;clip: rect(1px 1px 1px 1px);clip: rect(1px, 1px, 1px, 1px);height: 1px;margin: -1px;overflow: hidden;padding: 0;position: absolute;width: 1px;}#sk-container-id-2 div.sk-estimator {font-family: monospace;background-color: #f0f8ff;border: 1px dotted black;border-radius: 0.25em;box-sizing: border-box;margin-bottom: 0.5em;}#sk-container-id-2 div.sk-estimator:hover {background-color: #d4ebff;}#sk-container-id-2 div.sk-parallel-item::after {content: \"\";width: 100%;border-bottom: 1px solid gray;flex-grow: 1;}#sk-container-id-2 div.sk-label:hover label.sk-toggleable__label {background-color: #d4ebff;}#sk-container-id-2 div.sk-serial::before {content: \"\";position: absolute;border-left: 1px solid gray;box-sizing: border-box;top: 0;bottom: 0;left: 50%;z-index: 0;}#sk-container-id-2 div.sk-serial {display: flex;flex-direction: column;align-items: center;background-color: white;padding-right: 0.2em;padding-left: 0.2em;position: relative;}#sk-container-id-2 div.sk-item {position: relative;z-index: 1;}#sk-container-id-2 div.sk-parallel {display: flex;align-items: stretch;justify-content: center;background-color: white;position: relative;}#sk-container-id-2 div.sk-item::before, #sk-container-id-2 div.sk-parallel-item::before {content: \"\";position: absolute;border-left: 1px solid gray;box-sizing: border-box;top: 0;bottom: 0;left: 50%;z-index: -1;}#sk-container-id-2 div.sk-parallel-item {display: flex;flex-direction: column;z-index: 1;position: relative;background-color: white;}#sk-container-id-2 div.sk-parallel-item:first-child::after {align-self: flex-end;width: 50%;}#sk-container-id-2 div.sk-parallel-item:last-child::after {align-self: flex-start;width: 50%;}#sk-container-id-2 div.sk-parallel-item:only-child::after {width: 0;}#sk-container-id-2 div.sk-dashed-wrapped {border: 1px dashed gray;margin: 0 0.4em 0.5em 0.4em;box-sizing: border-box;padding-bottom: 0.4em;background-color: white;}#sk-container-id-2 div.sk-label label {font-family: monospace;font-weight: bold;display: inline-block;line-height: 1.2em;}#sk-container-id-2 div.sk-label-container {text-align: center;}#sk-container-id-2 div.sk-container {/* jupyter's `normalize.less` sets `[hidden] { display: none; }` but bootstrap.min.css set `[hidden] { display: none !important; }` so we also need the `!important` here to be able to override the default hidden behavior on the sphinx rendered scikit-learn.org. See: https://github.com/scikit-learn/scikit-learn/issues/21755 */display: inline-block !important;position: relative;}#sk-container-id-2 div.sk-text-repr-fallback {display: none;}</style><div id=\"sk-container-id-2\" class=\"sk-top-container\"><div class=\"sk-text-repr-fallback\"><pre>LinearRegression()</pre><b>In a Jupyter environment, please rerun this cell to show the HTML representation or trust the notebook. <br />On GitHub, the HTML representation is unable to render, please try loading this page with nbviewer.org.</b></div><div class=\"sk-container\" hidden><div class=\"sk-item\"><div class=\"sk-estimator sk-toggleable\"><input class=\"sk-toggleable__control sk-hidden--visually\" id=\"sk-estimator-id-2\" type=\"checkbox\" checked><label for=\"sk-estimator-id-2\" class=\"sk-toggleable__label sk-toggleable__label-arrow\">LinearRegression</label><div class=\"sk-toggleable__content\"><pre>LinearRegression()</pre></div></div></div></div></div>"
      ],
      "text/plain": [
       "LinearRegression()"
      ]
     },
     "execution_count": 53,
     "metadata": {},
     "output_type": "execute_result"
    }
   ],
   "source": [
    "import numpy as np\n",
    "\n",
    "x = data['Jahr'].to_numpy().reshape(-1,1)\n",
    "\n",
    "einw_model.fit(x, data['Einwohner'])"
   ]
  },
  {
   "cell_type": "code",
   "execution_count": 55,
   "id": "02ecacee",
   "metadata": {},
   "outputs": [
    {
     "data": {
      "text/plain": [
       "-2653.019"
      ]
     },
     "execution_count": 55,
     "metadata": {},
     "output_type": "execute_result"
    }
   ],
   "source": [
    "lin_coef = einw_model.coef_.round(4)\n",
    "lin_achs = einw_model.intercept_.round(4)\n",
    "lin_achs"
   ]
  },
  {
   "cell_type": "code",
   "execution_count": 57,
   "id": "596c004f",
   "metadata": {},
   "outputs": [
    {
     "name": "stdout",
     "output_type": "stream",
     "text": [
      "Die Gleichung der Regressionsgeraden für die Einwohnerzahl lautet: y = 1.45x -2653.02\n"
     ]
    },
    {
     "name": "stderr",
     "output_type": "stream",
     "text": [
      "/tmp/ipykernel_55763/1617038104.py:1: DeprecationWarning: Conversion of an array with ndim > 0 to a scalar is deprecated, and will error in future. Ensure you extract a single element from your array before performing this operation. (Deprecated NumPy 1.25.)\n",
      "  print('Die Gleichung der Regressionsgeraden für die Einwohnerzahl lautet: y = %.2fx %.2f'\n"
     ]
    }
   ],
   "source": [
    "print('Die Gleichung der Regressionsgeraden für die Einwohnerzahl lautet: y = %.2fx %.2f'\n",
    "%(einw_model.coef_, einw_model.intercept_))\n"
   ]
  },
  {
   "cell_type": "code",
   "execution_count": 59,
   "id": "e9f95063",
   "metadata": {},
   "outputs": [
    {
     "data": {
      "text/plain": [
       "array([-54.78644605, -40.27118027, -11.24064871,   3.27461707,\n",
       "        17.78988286,  32.30514864,  46.82041442,  61.3356802 ,\n",
       "        75.85094598,  90.36621177, 104.88147755, 119.39674333,\n",
       "       133.91200911, 148.42727489, 162.94254067, 177.45780646,\n",
       "       191.97307224, 206.48833802, 221.0036038 , 235.51886958,\n",
       "       250.03413537, 264.54940115, 279.06466693])"
      ]
     },
     "execution_count": 59,
     "metadata": {},
     "output_type": "execute_result"
    }
   ],
   "source": [
    "y_predict = einw_model.predict(x)\n",
    "\n",
    "y_predict"
   ]
  },
  {
   "cell_type": "code",
   "execution_count": 61,
   "id": "eb031ae5",
   "metadata": {},
   "outputs": [
    {
     "data": {
      "text/plain": [
       "array([293.57993271])"
      ]
     },
     "execution_count": 61,
     "metadata": {},
     "output_type": "execute_result"
    }
   ],
   "source": [
    "einw_model.predict([[2030]])"
   ]
  },
  {
   "cell_type": "code",
   "execution_count": 64,
   "id": "11348ed6",
   "metadata": {},
   "outputs": [
    {
     "data": {
      "text/plain": [
       "array([[1.        , 0.96003451],\n",
       "       [0.96003451, 1.        ]])"
      ]
     },
     "execution_count": 64,
     "metadata": {},
     "output_type": "execute_result"
    }
   ],
   "source": [
    "np.corrcoef(data['Jahr'], data['Einwohner'])"
   ]
  },
  {
   "cell_type": "code",
   "execution_count": 66,
   "id": "aed94274",
   "metadata": {},
   "outputs": [
    {
     "name": "stdout",
     "output_type": "stream",
     "text": [
      "Der lineare Korrelationskoeffizient für das Jahr mit den Einwohnern lauter: 0.9600\n"
     ]
    }
   ],
   "source": [
    "rxy = np.corrcoef(data['Jahr'], data['Einwohner'])[0,1]\n",
    "\n",
    "print('Der lineare Korrelationskoeffizient für das Jahr mit den Einwohnern lauter: %.4f' %rxy)"
   ]
  },
  {
   "cell_type": "code",
   "execution_count": 68,
   "id": "d29c4782",
   "metadata": {},
   "outputs": [
    {
     "data": {
      "text/plain": [
       "0.9217"
      ]
     },
     "execution_count": 68,
     "metadata": {},
     "output_type": "execute_result"
    }
   ],
   "source": [
    "# Bestimmtheitsmaß Lineare Funktion\n",
    "\n",
    "from sklearn.metrics import r2_score\n",
    "\n",
    "lin_best = r2_score(data['Einwohner'], y_predict).round(4)\n",
    "lin_best# r2_score(y, y_predict)"
   ]
  },
  {
   "cell_type": "code",
   "execution_count": 70,
   "id": "d3556ff3-4ddd-41b3-a863-78d30dd2ea83",
   "metadata": {
    "tags": []
   },
   "outputs": [
    {
     "data": {
      "text/plain": [
       "array([[-1.75828978],\n",
       "       [-1.61069611],\n",
       "       [-1.31550877],\n",
       "       [-1.16791511],\n",
       "       [-1.02032144],\n",
       "       [-0.87272777],\n",
       "       [-0.7251341 ],\n",
       "       [-0.57754044],\n",
       "       [-0.42994677],\n",
       "       [-0.2823531 ],\n",
       "       [-0.13475944],\n",
       "       [ 0.01283423],\n",
       "       [ 0.1604279 ],\n",
       "       [ 0.30802157],\n",
       "       [ 0.45561523],\n",
       "       [ 0.6032089 ],\n",
       "       [ 0.75080257],\n",
       "       [ 0.89839624],\n",
       "       [ 1.0459899 ],\n",
       "       [ 1.19358357],\n",
       "       [ 1.34117724],\n",
       "       [ 1.4887709 ],\n",
       "       [ 1.63636457]])"
      ]
     },
     "execution_count": 70,
     "metadata": {},
     "output_type": "execute_result"
    }
   ],
   "source": [
    "from sklearn.preprocessing import StandardScaler\n",
    "\n",
    "x_scaled = StandardScaler().fit_transform(x)\n",
    "x_scaled"
   ]
  },
  {
   "cell_type": "code",
   "execution_count": 72,
   "id": "cd60def1-f833-4e42-8b6f-9a77f7916e28",
   "metadata": {},
   "outputs": [],
   "source": [
    "# POLYNOM 2.GRADES"
   ]
  },
  {
   "cell_type": "code",
   "execution_count": 74,
   "id": "7f6c3979-26ab-4688-8733-5c5baae6084a",
   "metadata": {
    "tags": []
   },
   "outputs": [
    {
     "data": {
      "text/plain": [
       "array([[-1.75828978e+00,  3.09158294e+00],\n",
       "       [-1.61069611e+00,  2.59434195e+00],\n",
       "       [-1.31550877e+00,  1.73056333e+00],\n",
       "       [-1.16791511e+00,  1.36402570e+00],\n",
       "       [-1.02032144e+00,  1.04105584e+00],\n",
       "       [-8.72727772e-01,  7.61653764e-01],\n",
       "       [-7.25134105e-01,  5.25819470e-01],\n",
       "       [-5.77540437e-01,  3.33552957e-01],\n",
       "       [-4.29946770e-01,  1.84854225e-01],\n",
       "       [-2.82353103e-01,  7.97232746e-02],\n",
       "       [-1.34759435e-01,  1.81601054e-02],\n",
       "       [ 1.28342319e-02,  1.64717509e-04],\n",
       "       [ 1.60427899e-01,  2.57371109e-02],\n",
       "       [ 3.08021567e-01,  9.48772855e-02],\n",
       "       [ 4.55615234e-01,  2.07585241e-01],\n",
       "       [ 6.03208901e-01,  3.63860978e-01],\n",
       "       [ 7.50802568e-01,  5.63704497e-01],\n",
       "       [ 8.98396236e-01,  8.07115796e-01],\n",
       "       [ 1.04598990e+00,  1.09409488e+00],\n",
       "       [ 1.19358357e+00,  1.42464174e+00],\n",
       "       [ 1.34117724e+00,  1.79875638e+00],\n",
       "       [ 1.48877090e+00,  2.21643881e+00],\n",
       "       [ 1.63636457e+00,  2.67768901e+00]])"
      ]
     },
     "execution_count": 74,
     "metadata": {},
     "output_type": "execute_result"
    }
   ],
   "source": [
    "from sklearn.preprocessing import PolynomialFeatures\n",
    "\n",
    "quad_jahr = PolynomialFeatures(degree=2, include_bias=False).fit_transform(x_scaled)\n",
    "\n",
    "quad_jahr\n",
    "\n"
   ]
  },
  {
   "cell_type": "code",
   "execution_count": 76,
   "id": "025bb821-5513-4396-bf05-505e66aafb0c",
   "metadata": {
    "tags": []
   },
   "outputs": [
    {
     "data": {
      "text/plain": [
       "87.4229"
      ]
     },
     "execution_count": 76,
     "metadata": {},
     "output_type": "execute_result"
    }
   ],
   "source": [
    "quad_einw_model = LinearRegression()\n",
    "quad_einw_model.fit(quad_jahr, data['Einwohner'])\n",
    "\n",
    "quad_coef = quad_einw_model.coef_.round(4)\n",
    "quad_achs = quad_einw_model.intercept_.round(4)\n",
    "\n",
    "quad_achs\n",
    "\n",
    "                                    \n"
   ]
  },
  {
   "cell_type": "code",
   "execution_count": 78,
   "id": "255ed939-48b4-4e45-b4c1-308acfa729dc",
   "metadata": {
    "tags": []
   },
   "outputs": [
    {
     "data": {
      "text/plain": [
       "array([  6.03342456,   5.56434167,   8.64029529,  12.18533179,\n",
       "        17.06840809,  23.2895242 ,  30.8486801 ,  39.74587579,\n",
       "        49.98111129,  61.55438658,  74.46570168,  88.71505657,\n",
       "       104.30245126, 121.22788575, 139.49136003, 159.09287412,\n",
       "       180.032428  , 202.31002168, 225.92565516, 250.87932844,\n",
       "       277.17104151, 304.80079439, 333.76858706])"
      ]
     },
     "execution_count": 78,
     "metadata": {},
     "output_type": "execute_result"
    }
   ],
   "source": [
    "y_predict_quad = quad_einw_model.predict(quad_jahr)\n",
    "\n",
    "y_predict_quad"
   ]
  },
  {
   "cell_type": "code",
   "execution_count": 80,
   "id": "3f8c0d86-d39d-41c5-a695-6ce9e60e76d7",
   "metadata": {
    "tags": []
   },
   "outputs": [],
   "source": [
    "quad_best = r2_score(data['Einwohner'], y_predict_quad).round(4)"
   ]
  },
  {
   "cell_type": "code",
   "execution_count": 82,
   "id": "243ff32b-d1e7-44ed-9ece-a4a72063ea49",
   "metadata": {},
   "outputs": [],
   "source": [
    "# POLYNOM 3.GRADES"
   ]
  },
  {
   "cell_type": "code",
   "execution_count": 84,
   "id": "6a31152a-add4-4153-b7cd-61439f559e62",
   "metadata": {},
   "outputs": [
    {
     "data": {
      "text/plain": [
       "array([[-1.75828978e+00,  3.09158294e+00, -5.43589867e+00],\n",
       "       [-1.61069611e+00,  2.59434195e+00, -4.17869649e+00],\n",
       "       [-1.31550877e+00,  1.73056333e+00, -2.27657125e+00],\n",
       "       [-1.16791511e+00,  1.36402570e+00, -1.59306622e+00],\n",
       "       [-1.02032144e+00,  1.04105584e+00, -1.06221159e+00],\n",
       "       [-8.72727772e-01,  7.61653764e-01, -6.64716392e-01],\n",
       "       [-7.25134105e-01,  5.25819470e-01, -3.81289630e-01],\n",
       "       [-5.77540437e-01,  3.33552957e-01, -1.92640320e-01],\n",
       "       [-4.29946770e-01,  1.84854225e-01, -7.94774770e-02],\n",
       "       [-2.82353103e-01,  7.97232746e-02, -2.25101139e-02],\n",
       "       [-1.34759435e-01,  1.81601054e-02, -2.44724555e-03],\n",
       "       [ 1.28342319e-02,  1.64717509e-04,  2.11402272e-06],\n",
       "       [ 1.60427899e-01,  2.57371109e-02,  4.12895063e-03],\n",
       "       [ 3.08021567e-01,  9.48772855e-02,  2.92242501e-02],\n",
       "       [ 4.55615234e-01,  2.07585241e-01,  9.45789983e-02],\n",
       "       [ 6.03208901e-01,  3.63860978e-01,  2.19484181e-01],\n",
       "       [ 7.50802568e-01,  5.63704497e-01,  4.23230784e-01],\n",
       "       [ 8.98396236e-01,  8.07115796e-01,  7.25109793e-01],\n",
       "       [ 1.04598990e+00,  1.09409488e+00,  1.14441219e+00],\n",
       "       [ 1.19358357e+00,  1.42464174e+00,  1.70042897e+00],\n",
       "       [ 1.34117724e+00,  1.79875638e+00,  2.41245112e+00],\n",
       "       [ 1.48877090e+00,  2.21643881e+00,  3.29976961e+00],\n",
       "       [ 1.63636457e+00,  2.67768901e+00,  4.38167544e+00]])"
      ]
     },
     "execution_count": 84,
     "metadata": {},
     "output_type": "execute_result"
    }
   ],
   "source": [
    "trip_jahr = PolynomialFeatures(degree=3, include_bias=False).fit_transform(x_scaled)\n",
    "\n",
    "trip_jahr"
   ]
  },
  {
   "cell_type": "code",
   "execution_count": 86,
   "id": "0c7cdb58-92e6-4e2d-8c26-b5188fd618b6",
   "metadata": {
    "tags": []
   },
   "outputs": [
    {
     "data": {
      "text/plain": [
       "87.3056"
      ]
     },
     "execution_count": 86,
     "metadata": {},
     "output_type": "execute_result"
    }
   ],
   "source": [
    "trip_einw_model = LinearRegression()\n",
    "trip_einw_model.fit(trip_jahr, data['Einwohner'])\n",
    "\n",
    "trip_coef = trip_einw_model.coef_.round(4)\n",
    "trip_achs = trip_einw_model.intercept_.round(4)\n",
    "\n",
    "trip_achs\n",
    "\n",
    "                                    \n"
   ]
  },
  {
   "cell_type": "code",
   "execution_count": 88,
   "id": "310f1f7d-3ab7-4a1e-9e35-c4ca41cb08b2",
   "metadata": {
    "tags": []
   },
   "outputs": [
    {
     "data": {
      "text/plain": [
       "array([  4.22329734,   4.68523437,   9.01076786,  12.91446527,\n",
       "        18.00551709,  24.30397378,  31.82988584,  40.60330373,\n",
       "        50.64427792,  61.97285889,  74.60909712,  88.57304308,\n",
       "       103.88474724, 120.56426008, 138.63163207, 158.10691369,\n",
       "       179.01015542, 201.36140772, 225.18072107, 250.48814595,\n",
       "       277.30373282, 305.64753217, 335.53959448])"
      ]
     },
     "execution_count": 88,
     "metadata": {},
     "output_type": "execute_result"
    }
   ],
   "source": [
    "y_predict_trip = trip_einw_model.predict(trip_jahr)\n",
    "\n",
    "y_predict_trip"
   ]
  },
  {
   "cell_type": "code",
   "execution_count": 90,
   "id": "e4fc038d-6ea1-471b-b83f-febd6787c610",
   "metadata": {
    "tags": []
   },
   "outputs": [],
   "source": [
    "trip_best = r2_score(data['Einwohner'], y_predict_trip).round(4)\n"
   ]
  },
  {
   "cell_type": "code",
   "execution_count": 92,
   "id": "bcfd58ba-8eb7-4e3f-acb6-c316eb908971",
   "metadata": {},
   "outputs": [],
   "source": [
    "#POLYNOMG 6. GRADES"
   ]
  },
  {
   "cell_type": "code",
   "execution_count": 94,
   "id": "15f9968e-5ec3-4c38-b4e9-d8af440920f1",
   "metadata": {
    "tags": []
   },
   "outputs": [
    {
     "data": {
      "text/plain": [
       "88.7467"
      ]
     },
     "execution_count": 94,
     "metadata": {},
     "output_type": "execute_result"
    }
   ],
   "source": [
    "six_jahr = PolynomialFeatures(degree=6, include_bias=False).fit_transform(x_scaled)\n",
    "\n",
    "six_einw_model = LinearRegression()\n",
    "six_einw_model.fit(six_jahr, data['Einwohner']) # Maisdaten sind die y Werte\n",
    "\n",
    "six_coef = six_einw_model.coef_.round(4)\n",
    "six_achs = six_einw_model.intercept_.round(4)\n",
    "six_achs"
   ]
  },
  {
   "cell_type": "code",
   "execution_count": 96,
   "id": "f61feeb2-af18-42e6-986d-3a50cbd6d45f",
   "metadata": {},
   "outputs": [
    {
     "data": {
      "text/plain": [
       "array([  3.30801603,   6.51626771,   9.49356736,  12.20774694,\n",
       "        16.6552554 ,  22.98908085,  31.1059901 ,  40.76442448,\n",
       "        51.68118235,  63.60688827,  76.38024883,  89.9610952 ,\n",
       "       104.44221234, 120.03995485, 137.06364957, 155.86378478,\n",
       "       176.75898612, 199.94177919, 225.36313879, 252.5958249 ,\n",
       "       280.67650526, 307.92666468, 331.75230102])"
      ]
     },
     "execution_count": 96,
     "metadata": {},
     "output_type": "execute_result"
    }
   ],
   "source": [
    "y_predict_six = six_einw_model.predict(six_jahr)\n",
    "\n",
    "y_predict_six"
   ]
  },
  {
   "cell_type": "code",
   "execution_count": 98,
   "id": "9afd7a0c-d123-4635-a8ec-1d5f2cbd084c",
   "metadata": {
    "tags": []
   },
   "outputs": [],
   "source": [
    "six_best = r2_score(data['Einwohner'], y_predict_six).round(4)\n"
   ]
  },
  {
   "cell_type": "code",
   "execution_count": 100,
   "id": "e17e3ba9-0d65-4c59-b6fb-355ce99f8a08",
   "metadata": {},
   "outputs": [],
   "source": [
    "# LOGARITHMUS FUNKTION"
   ]
  },
  {
   "cell_type": "code",
   "execution_count": 102,
   "id": "3e579431-3ca1-4578-9466-d0f84ef7dbbf",
   "metadata": {
    "tags": []
   },
   "outputs": [],
   "source": [
    "from scipy.optimize import curve_fit\n",
    "\n",
    "def f_log(z,a0,b): return a0 * z -b"
   ]
  },
  {
   "cell_type": "code",
   "execution_count": 104,
   "id": "60db8530-ad50-4c48-9936-9541293b854b",
   "metadata": {
    "tags": []
   },
   "outputs": [],
   "source": [
    "x_log = np.log(data['Jahr'])\n",
    "\n",
    "coefs_log, cov_log = curve_fit(f_log, x_log, data['Einwohner'])\n"
   ]
  },
  {
   "cell_type": "code",
   "execution_count": 106,
   "id": "8ffe8104-1dbb-4132-82b1-ca1b2a8597ec",
   "metadata": {
    "tags": []
   },
   "outputs": [
    {
     "data": {
      "text/plain": [
       "0     -57.435492\n",
       "1     -42.104832\n",
       "2     -11.697382\n",
       "3       3.381265\n",
       "4      18.377740\n",
       "5      33.292932\n",
       "6      48.127719\n",
       "7      62.882962\n",
       "8      77.559510\n",
       "9      92.158198\n",
       "10    106.679848\n",
       "11    121.125268\n",
       "12    135.495255\n",
       "13    149.790592\n",
       "14    164.012052\n",
       "15    178.160392\n",
       "16    192.236363\n",
       "17    206.240700\n",
       "18    220.174128\n",
       "19    234.037363\n",
       "20    247.831107\n",
       "21    261.556055\n",
       "22    275.212888\n",
       "Name: Jahr, dtype: float64"
      ]
     },
     "execution_count": 106,
     "metadata": {},
     "output_type": "execute_result"
    }
   ],
   "source": [
    "log_predict = f_log(x_log, *coefs_log)\n",
    "log_predict"
   ]
  },
  {
   "cell_type": "code",
   "execution_count": 108,
   "id": "fa23d926-744d-4b96-b9aa-fe1ae6dc7ce6",
   "metadata": {
    "tags": []
   },
   "outputs": [
    {
     "data": {
      "text/plain": [
       "0.9126"
      ]
     },
     "execution_count": 108,
     "metadata": {},
     "output_type": "execute_result"
    }
   ],
   "source": [
    "# zu (b):\n",
    "y_mean = np.mean(data['Einwohner'])\n",
    "sumsquared_t = np.sum((data['Einwohner']-y_mean)**2)\n",
    "sumsquared_ne = np.sum((data['Einwohner']-log_predict)**2)\n",
    "\n",
    "R_squared_log2 = 1-(sumsquared_ne/sumsquared_t)\n",
    "R_squared_log2.round(4) "
   ]
  },
  {
   "cell_type": "code",
   "execution_count": 110,
   "id": "44ef841e-30e8-4eb0-a3a1-f24b1646815f",
   "metadata": {
    "tags": []
   },
   "outputs": [
    {
     "name": "stdout",
     "output_type": "stream",
     "text": [
      "            Funktion                                      Koeffizienten  \\\n",
      "0   Lineare Funktion                                         [[1.4515]]   \n",
      "1  Polynom 2. Grades                               [[100.289, 30.7117]]   \n",
      "2  Polynom 3. Grades                       [[98.3603, 30.8947, 1.0394]]   \n",
      "3  Polynom 6. Grades  [[94.3657, 20.1145, 7.6949, 11.306, -2.1591, -...   \n",
      "4      Ln - Funktion           [[2751.84624775504, 20668.683805508037]]   \n",
      "\n",
      "                                     Achsenabschnitt  Bestimmtheitsmaß  \n",
      "0                                          -2653.019          0.921700  \n",
      "1                                            87.4229          0.999200  \n",
      "2                                            87.3056          0.999300  \n",
      "3                                            88.7467          0.999600  \n",
      "4  [[34536.91428976542, 260883.96638996535], [260...          0.912596  \n"
     ]
    }
   ],
   "source": [
    "import pandas as pd\n",
    "\n",
    "# Daten für die Koeffizienten, Achsenabschnitt und Bestimmtheitsmaß für jede Funktion\n",
    "data = {\n",
    "    'Funktion': ['Lineare Funktion', 'Polynom 2. Grades', 'Polynom 3. Grades', 'Polynom 6. Grades', 'Ln - Funktion'],\n",
    "    'Koeffizienten': [[lin_coef], [quad_coef], [trip_coef], [six_coef], [coefs_log]],\n",
    "    'Achsenabschnitt': [lin_achs, quad_achs, trip_achs, six_achs, cov_log],\n",
    "    'Bestimmtheitsmaß': [lin_best, quad_best, trip_best, six_best, R_squared_log2]\n",
    "}\n",
    "\n",
    "# Erstellen des DataFrame\n",
    "df = pd.DataFrame(data)\n",
    "\n",
    "# Ausgabe des DataFrames\n",
    "print(df)\n"
   ]
  },
  {
   "cell_type": "markdown",
   "id": "2aa1837a",
   "metadata": {},
   "source": [
    "## d) Beste Kurve wählen\n",
    "Wählen Sie aus den von Ihnen untersuchten Möglichkeiten die am besten geeignete Kurve. **Erläutern** Sie Ihre Wahl."
   ]
  },
  {
   "cell_type": "code",
   "execution_count": 113,
   "id": "648d0a51",
   "metadata": {},
   "outputs": [],
   "source": [
    "# Ich würde mich für dass Polynom 6. Grades entscheiden da dort\n",
    "# dass Bestimmtheitsmaß am nächsten an der 1 ist"
   ]
  },
  {
   "cell_type": "markdown",
   "id": "7bb70353",
   "metadata": {},
   "source": [
    "## e) Streudiagramm mit Regressionskurve\n",
    "Zeichnen Sie in das Streudiagramm die optimale Regressionskurve aus 4) ein. Dabei sollen auf der x-Achse die Jahreszahlen und auf der y-Achse die Bevölkerungszahl angegeben sein."
   ]
  },
  {
   "cell_type": "code",
   "execution_count": 118,
   "id": "9d17410f",
   "metadata": {},
   "outputs": [
    {
     "ename": "KeyError",
     "evalue": "'Jahr'",
     "output_type": "error",
     "traceback": [
      "\u001b[0;31m---------------------------------------------------------------------------\u001b[0m",
      "\u001b[0;31mKeyError\u001b[0m                                  Traceback (most recent call last)",
      "Cell \u001b[0;32mIn[118], line 1\u001b[0m\n\u001b[0;32m----> 1\u001b[0m plt\u001b[38;5;241m.\u001b[39mscatter(data[\u001b[38;5;124m'\u001b[39m\u001b[38;5;124mJahr\u001b[39m\u001b[38;5;124m'\u001b[39m], data[\u001b[38;5;124m'\u001b[39m\u001b[38;5;124mEinwohner\u001b[39m\u001b[38;5;124m'\u001b[39m], marker \u001b[38;5;241m=\u001b[39m\u001b[38;5;124m'\u001b[39m\u001b[38;5;124mx\u001b[39m\u001b[38;5;124m'\u001b[39m)\n\u001b[1;32m      3\u001b[0m plt\u001b[38;5;241m.\u001b[39mplot(data[\u001b[38;5;124m'\u001b[39m\u001b[38;5;124mJahr\u001b[39m\u001b[38;5;124m'\u001b[39m], y_predict_six, color\u001b[38;5;241m=\u001b[39m\u001b[38;5;124m'\u001b[39m\u001b[38;5;124mred\u001b[39m\u001b[38;5;124m'\u001b[39m) \n\u001b[1;32m      6\u001b[0m plt\u001b[38;5;241m.\u001b[39mxlabel(\u001b[38;5;124m'\u001b[39m\u001b[38;5;124mJahr\u001b[39m\u001b[38;5;124m'\u001b[39m)\n",
      "\u001b[0;31mKeyError\u001b[0m: 'Jahr'"
     ]
    }
   ],
   "source": [
    "\n",
    "plt.scatter(data['Jahr'], data['Einwohner'], marker ='x')\n",
    "\n",
    "plt.plot(data['Jahr'], y_predict_six, color='red') \n",
    "\n",
    "\n",
    "plt.xlabel('Jahr')\n",
    "plt.ylabel('Einwohner [In Mio]')\n",
    "plt.title('Einwohner der USA in Mio seit 1790')\n",
    "\n",
    "plt.show()"
   ]
  },
  {
   "cell_type": "code",
   "execution_count": null,
   "id": "2fce4715",
   "metadata": {},
   "outputs": [],
   "source": []
  },
  {
   "cell_type": "markdown",
   "id": "1c622a83",
   "metadata": {},
   "source": [
    "## f) Prognose für das Jahr 2030\n",
    "Berechnen Sie aus den Ihnen vorgelegten Daten eine Prognose über die Bevölkerungszahl der USA im Jahr 2030. **Erläutern** Sie Ihr Vorgehen.\n",
    "\n",
    "***Tipp:***<br>\n",
    "Beim Wert für die Prognose sollten Sie überlegen, ob Ihr Wert stimmen kann oder ob er nicht vielleicht völlig unrealistisch ist. <br>\n",
    "Der Grund für unrealistische Werte ist dabei evtl. gar nicht in der Wahl der Regressionsvariante zu suchen, sondern evtl. darin, dass numerische Probleme vorliegen und die geschätzten Koeffizienten mit zu wenigen Nachkommastellen verwendet werden!"
   ]
  },
  {
   "cell_type": "code",
   "execution_count": null,
   "id": "b870918d",
   "metadata": {},
   "outputs": [],
   "source": [
    "seinw_model.predict([[2030]])\n"
   ]
  }
 ],
 "metadata": {
  "kernelspec": {
   "display_name": "Python 3 (ipykernel)",
   "language": "python",
   "name": "python3"
  },
  "language_info": {
   "codemirror_mode": {
    "name": "ipython",
    "version": 3
   },
   "file_extension": ".py",
   "mimetype": "text/x-python",
   "name": "python",
   "nbconvert_exporter": "python",
   "pygments_lexer": "ipython3",
   "version": "3.11.7"
  }
 },
 "nbformat": 4,
 "nbformat_minor": 5
}

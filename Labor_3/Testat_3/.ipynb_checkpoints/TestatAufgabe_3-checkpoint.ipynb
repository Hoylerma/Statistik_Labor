{
 "cells": [
  {
   "cell_type": "markdown",
   "id": "688e681f",
   "metadata": {},
   "source": [
    "# Statistik-Labor Testat Aufgabe 3\n",
    "***Hinweise:***\n",
    "- Bitte überprüfen Sie Ihre Resultate vor der Abgabe Ihre Ergebnisse mit den Teilergebnissen aus der Datei ***Teilergebnisse_xy.txt***.\n",
    "- Die Unterlagen sind im **pdf-Format** in Moodle hochgeladen abzugeben. Richtige Lösungen werden nicht mehr an Sie zurückgegeben. Eine Abgabe per Email ist nicht möglich.\n",
    "- Bitte füllen Sie das jeweilige **Deckblatt** mit aus und geben es mit Ihrer Lösung zusammen ab.\n",
    "\n",
    "***Aufgabenstellung:***<br>\n",
    "In dieser Aufgabe wird die Lotterie „KENO“ untersucht, die die staatlichen Lottogesellschaften täglich (von Montag bis Samstag) anbieten. Bei dieser Lotterie besteht ein Tippfeld aus 70 Zahlen. Ein:e Teilnehmer:in an der Lotterie kann selbst entscheiden, wie viele dieser Zahlen er/sie ankreuzt (mindestens 2, höchstens 10) und welchen Betrag er/sie einsetzt (1, 2, 5 oder 10 Euro). Von den 70 Zahlen werden 20 Gewinnzahlen gezogen. Je nachdem, wie viele der Gewinnzahlen er/sie angekreuzt hatte, bekommt der/die Lotterieteilnehmer:in einen festen Geldbetrag ausgezahlt. Der Gewinnplan (Stand 01.01.2005) ist im Folgenden aufgelistet. (Es gibt Sonderregelungen für die jeweils höchsten Gewinnklassen bei 10 oder 9 getippten Zahlen; diese sollen nicht berücksichtigt werden und sind daher nicht hier aufgeführt.)\n",
    "\n",
    "<table><tr>\n",
    "<img src=\"https://drive.google.com/uc?id=19AUBO7UMNIHeCLUrULL-9gBY_WuODh5n\" alt=\"Drawing\" style=\"width: 400px;\"/>\n",
    "</tr><tr>\n",
    "<td> <img src=\"https://drive.google.com/uc?id=1x2IijEgRFxBhZ4u3tF_jjLrpHqCMhKq_\" alt=\"Drawing\" style=\"width: 400px;\"/> </td>\n",
    "<td> <img src=\"https://drive.google.com/uc?id=1OkchOBHmd8B4yCESXvlz4orbVJj36Fag\" alt=\"Drawing\" style=\"width: 400px;\"/> </td>\n",
    "</tr><tr>\n",
    "<td> <img src=\"https://drive.google.com/uc?id=1rOwpI4uG842uuew_fnQcxs1OisT3Wpje\" alt=\"Drawing\" style=\"width: 400px;\"/> </td>\n",
    "<td> <img src=\"https://drive.google.com/uc?id=1f8BLVyVaUh3SYmIATn8SB3uereJUeB9F\" alt=\"Drawing\" style=\"width: 400px;\"/> </td>\n",
    "</tr><tr>\n",
    "<td> <img src=\"https://drive.google.com/uc?id=17SzdR7YXZxZ1RNn4v_KdwyV1XxD4_TtX\" alt=\"Drawing\" style=\"width: 400px;\"/> </td>\n",
    "<td> <img src=\"https://drive.google.com/uc?id=1suOwSx1Wudiow2Z314dSjhODOQypszgK\" alt=\"Drawing\" style=\"width: 400px;\"/> </td>\n",
    "</tr><tr>\n",
    "<td> <img src=\"https://drive.google.com/uc?id=13-WILkeidHuGA9YCBnVyYOt5uJceWMWD\" alt=\"Drawing\" style=\"width: 400px;\"/> </td>\n",
    "<td> <img src=\"https://drive.google.com/uc?id=1MrYtnAJnSWLX81AMF6MNd3qR6Qpjdm0J\" alt=\"Drawing\" style=\"width: 400px;\"/> </td>\n",
    "</tr></table>\n",
    "\n",
    "Ablesebeispiel: Sie haben auf dem Spielschein in einem Tippfeld 7 Zahlen angekreuzt; Ihr Einsatz beträgt $2\\,€$. Wenn Sie unter Ihren 7 Zahlen genau 5 Richtige sind, erhalten Sie $2\\cdot12\\,€ = 24 €$ ausbezahlt (d. h. Ihr Gewinn beträgt $22\\,€$). Wenn Sie stattdessen nur 3 Richtige haben, erhalten Sie nichts (d. h. Sie haben einen Verlust in Höhe Ihres Einsatzes von $2\\,€$).\n",
    "\n",
    "### a) Tippfeld mit 10 Kästchen \n",
    "Die Zufallsvariablen $X_{10}$ beschreibt den Gewinn eines:r Lotterieteilnehmer:in, der/die in einem Tippfeld 10 Kästchen ankreuzt und $2\\,€$ einsetzt. Berechnen Sie Erwartungswert und Standardabweichung von $X_{10}$."
   ]
  },
  {
   "cell_type": "code",
   "execution_count": 12,
   "id": "379b75a9",
   "metadata": {},
   "outputs": [
    {
     "name": "stdout",
     "output_type": "stream",
     "text": [
      "Erwartungswert : -1.0120\n",
      "Varianz: 18735.7766\n",
      "Standardabweichung : 136.8787\n"
     ]
    }
   ],
   "source": [
    "import math\n",
    "from scipy.stats import hypergeom\n",
    "\n",
    "# Parameter\n",
    "N = 70  \n",
    "K = 20  \n",
    "n = 10  \n",
    "einsatz = 2  \n",
    "\n",
    "\n",
    "gewinnquoten = {\n",
    "    10: 100000,\n",
    "    9: 1000,\n",
    "    8: 100,\n",
    "    7: 15,\n",
    "    6: 5,\n",
    "    5: 2,\n",
    "    0: 2\n",
    "}\n",
    "\n",
    "# Da der Einsatz 2€ beträgt, werden die Gewinnbeträge verdoppelt\n",
    "for k, v in gewinnquoten.items():\n",
    "    gewinnquoten[k] = v * einsatz\n",
    "# Wahrscheinlichkeiten berechnen\n",
    "for k in range(11):\n",
    "    wahrscheinlichkeiten[k] = hypergeom.pmf(k, N, K, n)\n",
    "\n",
    "\n",
    "erwartungswert_auszahlung = 0\n",
    "for k in range(len(wahrscheinlichkeiten)):\n",
    "    erwartungswert_auszahlung += gewinnquoten.get(k, 0) * wahrscheinlichkeiten[k]\n",
    "\n",
    "# Erwartungswert berechnen\n",
    "erwartungswert_gewinn = erwartungswert_auszahlung - einsatz\n",
    "\n",
    "# Varianz berechnen\n",
    "varianz = 0\n",
    "for k in range(len(wahrscheinlichkeiten)):\n",
    "    varianz += (gewinnquoten.get(k, 0) ** 2) * wahrscheinlichkeiten[k]\n",
    "varianz -= erwartungswert_auszahlung**2\n",
    "\n",
    "# Standardabweichung berechnen\n",
    "standardabweichung = math.sqrt(varianz)\n",
    "\n",
    "print(f\"Erwartungswert : {erwartungswert_gewinn:.4f}\")\n",
    "print(f\"Varianz: {varianz:.4f}\")\n",
    "print(f\"Standardabweichung : {standardabweichung:.4f}\")"
   ]
  },
  {
   "cell_type": "markdown",
   "id": "5c991640",
   "metadata": {},
   "source": [
    "### b) Weitere Tippfelder\n",
    "Berechnen Sie ebenso die Erwartungswerte und Standardabweichungen von $X_9, ..., X_2$, d. h. dem Gewinn bei Ankreuzen von 9 (bzw. 8, ..., 2) Kästchen in einem Tippfeld jeweils bei Einsatz von $2\\,€$.\n",
    "\n",
    "***Beispiellösung:***<br>\n",
    "- Abgabe für a) und b) mit vollständiger Berechnung (nicht nur Endergebnisse)\n",
    "- am liebsten in tabellarischer Form für $X_{10},...,X_2$"
   ]
  },
  {
   "cell_type": "code",
   "execution_count": 20,
   "id": "25dc8859",
   "metadata": {},
   "outputs": [
    {
     "name": "stdout",
     "output_type": "stream",
     "text": [
      "  Anzahl der gewaehlten Kaestchen    Erwartungswert     Varianz    Standardabweichung\n",
      "---------------------------------  ----------------  ----------  --------------------\n",
      "                                9           -0.9991  26218.0757              161.9200\n",
      "                                8           -1.0212   5358.7205               73.2033\n",
      "                                7           -1.0087    331.7899               18.2151\n",
      "                                6           -1.0051    301.3534               17.3595\n",
      "                                5           -1.0020     56.0134                7.4842\n",
      "                                4           -1.0111     11.2623                3.3559\n",
      "                                3           -0.9865     20.9925                4.5818\n",
      "                                2           -1.0559     10.4379                3.2308\n"
     ]
    }
   ],
   "source": [
    "from tabulate import tabulate\n",
    "import math\n",
    "\n",
    "def calculate (N, K, n, einsatz, gewinnquoten):\n",
    "\n",
    "\n",
    "    for k, v in gewinnquoten.items():\n",
    "        gewinnquoten[k] = v * einsatz\n",
    "\n",
    "    # Wahrscheinlichkeiten berechnen\n",
    "    for k in range(11):\n",
    "        wahrscheinlichkeiten[k] = hypergeom.pmf(k, N, K, n)\n",
    "\n",
    "\n",
    "    erwartungswert_auszahlung = 0\n",
    "    for k in range(len(wahrscheinlichkeiten)):\n",
    "        erwartungswert_auszahlung += gewinnquoten.get(k, 0) * wahrscheinlichkeiten[k]\n",
    "\n",
    "    # Erwartungswert berechnen\n",
    "    erwartungswert_gewinn = erwartungswert_auszahlung - einsatz\n",
    "\n",
    "    # Varianz berechnen\n",
    "    varianz = 0\n",
    "    for k in range(len(wahrscheinlichkeiten)):\n",
    "        varianz += (gewinnquoten.get(k, 0) ** 2) * wahrscheinlichkeiten[k]\n",
    "    varianz -= erwartungswert_auszahlung**2\n",
    "    \n",
    "    \n",
    "    # Standardabweichung berechnen\n",
    "    \n",
    "    \n",
    "    standardabweichung = math.sqrt(varianz)\n",
    "\n",
    "    return erwartungswert_gewinn, varianz, standardabweichung\n",
    "\n",
    "\n",
    "\n",
    "szenarien = [\n",
    "    {\"n\": 9, \"gewinnquoten\": {9: 50000, 8: 1000, 7: 20, 6: 5, 5: 2, 0: 2}},\n",
    "    {\"n\": 8, \"gewinnquoten\": {8: 10000, 7: 100, 6: 15, 5: 2, 4: 1, 0: 1}},\n",
    "    {\"n\": 7, \"gewinnquoten\": {7: 1000, 6: 100, 5: 12, 4: 1}},\n",
    "    {\"n\": 6, \"gewinnquoten\": {6: 500, 5: 15, 4: 2, 3: 1}},\n",
    "    {\"n\": 5, \"gewinnquoten\": {5: 100, 4: 7, 3: 2}},\n",
    "    {\"n\": 4, \"gewinnquoten\": {4: 22, 3: 2, 2: 1}},\n",
    "    {\"n\": 3, \"gewinnquoten\": {3: 16, 2: 1}},\n",
    "    {\"n\": 2, \"gewinnquoten\": {2: 6}}\n",
    "]\n",
    "\n",
    "# Tabellarische Ausgabe \n",
    "table = []\n",
    "for szenario in szenarien:\n",
    "    erwartungswert_gewinn, varianz, standardabweichung = calculate(N=70, K=20, einsatz=2, **szenario)\n",
    "    table.append([szenario[\"n\"], erwartungswert_gewinn, varianz, standardabweichung])\n",
    "\n",
    "# Tabelle formatiert ausgeben\n",
    "headers = [\"Anzahl der gewaehlten Kaestchen\", \"Erwartungswert\", \"Varianz\", \"Standardabweichung\"]\n",
    "print(tabulate(table, headers=headers, floatfmt=\".4f\"))\n"
   ]
  },
  {
   "cell_type": "markdown",
   "id": "47ded6e2",
   "metadata": {},
   "source": [
    "### c) Gewinnchance-Maximierung\n",
    "Wie viele Kästchen pro Tippfeld sollte ein:e KENO-Spieler:in ankreuzen, der/die den Erwartungswert seines/ihres Gewinns maximieren möchte?"
   ]
  },
  {
   "cell_type": "code",
   "execution_count": 34,
   "id": "042a1f31",
   "metadata": {},
   "outputs": [],
   "source": [
    "#Der Spieler sollte 3 Kästchen ankreuzen da dort der Erwartungswert am höchsten ist."
   ]
  },
  {
   "cell_type": "markdown",
   "id": "6559d500",
   "metadata": {},
   "source": [
    "### d) Individual Aufgabe\n",
    "Beantworten Sie die in Datei **sr_aufg_3d_xy.txt** im Unterverzeichnis **Endziffer_xy** gestellte Frage (*xy = Endziffern Ihrer Matrikelnummer*). Welche Funktion verwenden Sie hier? Welche Werte muss man für die Parameter einsetzen?\n",
    "\n",
    "***Tipp:***<br>\n",
    "- Die Datei sr_aufg_3d_xy.txt ist nur aus technischen Gründen im .txt-Format abgespeichert. Sie muss nicht in das Notebook eingelesen werden, sondern kann auch mit Microsoft Word, WordPad oder dem Editor gelesen werden.\n",
    "- Es treten (je nach Matrikelnummer) Formulierungen wie \"**höchstens** 9-mal\", \"**mindestens** 9-mal\" oder \"**genau** 9-mal\" auf. Verwechseln Sie diese nicht!"
   ]
  },
  {
   "cell_type": "code",
   "execution_count": 18,
   "id": "7ddd2977",
   "metadata": {},
   "outputs": [
    {
     "name": "stdout",
     "output_type": "stream",
     "text": [
      "Wahrscheinlichkeit, dass Sie bei 8 Spielen höchstens 6-mal verlieren: 0.1772\n"
     ]
    }
   ],
   "source": [
    "import math\n",
    "from scipy.stats import hypergeom, binom\n",
    "\n",
    "\n",
    "N = 70  \n",
    "K = 20 \n",
    "n = 7   \n",
    "einsatz = 2  \n",
    "\n",
    "# Wahrscheinlichkeit, 0, 1, 2 oder 3 Richtige zu haben \n",
    "prob_0 = hypergeom.pmf(0, N, K, n)\n",
    "prob_1 = hypergeom.pmf(1, N, K, n)\n",
    "prob_2 = hypergeom.pmf(2, N, K, n)\n",
    "prob_3 = hypergeom.pmf(3, N, K, n)\n",
    "\n",
    "# Gesamtwahrscheinlichkeit eines Verlustes pro Tag\n",
    "prob_loss_per_day = prob_0 + prob_1 + prob_2 + prob_3\n",
    "\n",
    "# Anzahl der Tage\n",
    "n_days = 8\n",
    "\n",
    "prob_at_most_6_losses = sum(binom.pmf(k, n_days, prob_loss_per_day) for k in range(7))\n",
    "\n",
    "print(f\"Wahrscheinlichkeit, dass Sie bei 8 Spielen höchstens 6-mal verlieren: {prob_at_most_6_losses:.4f}\")\n"
   ]
  }
 ],
 "metadata": {
  "kernelspec": {
   "display_name": "Python 3 (ipykernel)",
   "language": "python",
   "name": "python3"
  },
  "language_info": {
   "codemirror_mode": {
    "name": "ipython",
    "version": 3
   },
   "file_extension": ".py",
   "mimetype": "text/x-python",
   "name": "python",
   "nbconvert_exporter": "python",
   "pygments_lexer": "ipython3",
   "version": "3.11.7"
  }
 },
 "nbformat": 4,
 "nbformat_minor": 5
}
